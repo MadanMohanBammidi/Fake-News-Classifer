{
 "cells": [
  {
   "cell_type": "code",
   "execution_count": 2,
   "id": "0a463915-4384-46d6-a0af-fbacf79a5385",
   "metadata": {},
   "outputs": [],
   "source": [
    "import pandas as pd"
   ]
  },
  {
   "cell_type": "code",
   "execution_count": 3,
   "id": "46e1cacd-de3f-4a47-a6a4-1c0e52a4a78e",
   "metadata": {},
   "outputs": [
    {
     "name": "stdout",
     "output_type": "stream",
     "text": [
      "House Dem Aide: We Didn’t Even See Comey’s Letter Until Jason Chaffetz Tweeted It\n"
     ]
    },
    {
     "data": {
      "text/html": [
       "<div>\n",
       "<style scoped>\n",
       "    .dataframe tbody tr th:only-of-type {\n",
       "        vertical-align: middle;\n",
       "    }\n",
       "\n",
       "    .dataframe tbody tr th {\n",
       "        vertical-align: top;\n",
       "    }\n",
       "\n",
       "    .dataframe thead th {\n",
       "        text-align: right;\n",
       "    }\n",
       "</style>\n",
       "<table border=\"1\" class=\"dataframe\">\n",
       "  <thead>\n",
       "    <tr style=\"text-align: right;\">\n",
       "      <th></th>\n",
       "      <th>id</th>\n",
       "      <th>title</th>\n",
       "      <th>author</th>\n",
       "      <th>text</th>\n",
       "      <th>label</th>\n",
       "    </tr>\n",
       "  </thead>\n",
       "  <tbody>\n",
       "    <tr>\n",
       "      <th>0</th>\n",
       "      <td>0</td>\n",
       "      <td>House Dem Aide: We Didn’t Even See Comey’s Let...</td>\n",
       "      <td>Darrell Lucus</td>\n",
       "      <td>House Dem Aide: We Didn’t Even See Comey’s Let...</td>\n",
       "      <td>1</td>\n",
       "    </tr>\n",
       "    <tr>\n",
       "      <th>1</th>\n",
       "      <td>1</td>\n",
       "      <td>FLYNN: Hillary Clinton, Big Woman on Campus - ...</td>\n",
       "      <td>Daniel J. Flynn</td>\n",
       "      <td>Ever get the feeling your life circles the rou...</td>\n",
       "      <td>0</td>\n",
       "    </tr>\n",
       "  </tbody>\n",
       "</table>\n",
       "</div>"
      ],
      "text/plain": [
       "   id                                              title           author  \\\n",
       "0   0  House Dem Aide: We Didn’t Even See Comey’s Let...    Darrell Lucus   \n",
       "1   1  FLYNN: Hillary Clinton, Big Woman on Campus - ...  Daniel J. Flynn   \n",
       "\n",
       "                                                text  label  \n",
       "0  House Dem Aide: We Didn’t Even See Comey’s Let...      1  \n",
       "1  Ever get the feeling your life circles the rou...      0  "
      ]
     },
     "execution_count": 3,
     "metadata": {},
     "output_type": "execute_result"
    }
   ],
   "source": [
    "data = pd.read_csv('fake_news.csv')\n",
    "print(data['title'][0])\n",
    "data.head(2)"
   ]
  },
  {
   "cell_type": "code",
   "execution_count": 4,
   "id": "a685bb07-1a77-4a20-9fba-aae8026d0eda",
   "metadata": {},
   "outputs": [],
   "source": [
    "X = data.drop('label',axis=1)"
   ]
  },
  {
   "cell_type": "code",
   "execution_count": 5,
   "id": "34aa6726-91f2-469f-aa69-004e9627010c",
   "metadata": {},
   "outputs": [],
   "source": [
    "y = data['label']"
   ]
  },
  {
   "cell_type": "code",
   "execution_count": 6,
   "id": "9711a99a-d21f-4f01-b210-298bbe595713",
   "metadata": {},
   "outputs": [
    {
     "name": "stdout",
     "output_type": "stream",
     "text": [
      "<class 'pandas.core.frame.DataFrame'>\n",
      "RangeIndex: 20800 entries, 0 to 20799\n",
      "Data columns (total 5 columns):\n",
      " #   Column  Non-Null Count  Dtype \n",
      "---  ------  --------------  ----- \n",
      " 0   id      20800 non-null  int64 \n",
      " 1   title   20242 non-null  object\n",
      " 2   author  18843 non-null  object\n",
      " 3   text    20761 non-null  object\n",
      " 4   label   20800 non-null  int64 \n",
      "dtypes: int64(2), object(3)\n",
      "memory usage: 812.6+ KB\n"
     ]
    }
   ],
   "source": [
    "data.info()"
   ]
  },
  {
   "cell_type": "code",
   "execution_count": 7,
   "id": "4571360b-2d8a-42ab-b9d8-484ad2ffb70b",
   "metadata": {},
   "outputs": [],
   "source": [
    "data = data.dropna()"
   ]
  },
  {
   "cell_type": "code",
   "execution_count": 8,
   "id": "840f629a-4f0d-4e19-9df0-386af46ae034",
   "metadata": {},
   "outputs": [
    {
     "name": "stdout",
     "output_type": "stream",
     "text": [
      "<class 'pandas.core.frame.DataFrame'>\n",
      "Index: 18285 entries, 0 to 20799\n",
      "Data columns (total 5 columns):\n",
      " #   Column  Non-Null Count  Dtype \n",
      "---  ------  --------------  ----- \n",
      " 0   id      18285 non-null  int64 \n",
      " 1   title   18285 non-null  object\n",
      " 2   author  18285 non-null  object\n",
      " 3   text    18285 non-null  object\n",
      " 4   label   18285 non-null  int64 \n",
      "dtypes: int64(2), object(3)\n",
      "memory usage: 857.1+ KB\n"
     ]
    }
   ],
   "source": [
    "data.info()"
   ]
  },
  {
   "cell_type": "code",
   "execution_count": 9,
   "id": "3f37cbab-27ab-4f25-a55d-9d47af14ea3e",
   "metadata": {},
   "outputs": [],
   "source": [
    "msgs = data.copy()"
   ]
  },
  {
   "cell_type": "code",
   "execution_count": 10,
   "id": "a27f0a49-c929-4e28-a8f1-e998d3df63df",
   "metadata": {},
   "outputs": [],
   "source": [
    "msgs.reset_index(inplace = True)"
   ]
  },
  {
   "cell_type": "code",
   "execution_count": 11,
   "id": "2ba0e6ef-2e49-40c6-959d-e864a9167c97",
   "metadata": {},
   "outputs": [],
   "source": [
    "from sklearn.feature_extraction.text import CountVectorizer, TfidfVectorizer"
   ]
  },
  {
   "cell_type": "code",
   "execution_count": 12,
   "id": "eca30aa4-5fbd-4a4f-b2dd-4f8bb2091d0c",
   "metadata": {},
   "outputs": [],
   "source": [
    "import regex as re\n",
    "from nltk.corpus import stopwords\n",
    "from nltk.stem.porter import PorterStemmer\n",
    "ps = PorterStemmer()\n",
    "corpus = []\n",
    "for i in range(0,len(msgs)):\n",
    "    review = re.sub('[^a-zA-Z]',' ',msgs['title'][i])\n",
    "    review = review.lower()\n",
    "    review = review.split()\n",
    "    review = [ps.stem(word) for word in review if not word in stopwords.words('english')]\n",
    "    review = ' '.join(review)\n",
    "    corpus.append(review)"
   ]
  },
  {
   "cell_type": "code",
   "execution_count": 13,
   "id": "710024cc-bd0b-4032-9450-e159b80473b8",
   "metadata": {},
   "outputs": [],
   "source": [
    "cv = CountVectorizer(max_features=5000,ngram_range = (1,3))\n",
    "X = cv.fit_transform(corpus).toarray()"
   ]
  },
  {
   "cell_type": "code",
   "execution_count": 14,
   "id": "d09c43cb-9c9f-4143-9d9b-e138c28fcb0a",
   "metadata": {},
   "outputs": [
    {
     "data": {
      "text/plain": [
       "{'analyzer': 'word',\n",
       " 'binary': False,\n",
       " 'decode_error': 'strict',\n",
       " 'dtype': numpy.int64,\n",
       " 'encoding': 'utf-8',\n",
       " 'input': 'content',\n",
       " 'lowercase': True,\n",
       " 'max_df': 1.0,\n",
       " 'max_features': 5000,\n",
       " 'min_df': 1,\n",
       " 'ngram_range': (1, 3),\n",
       " 'preprocessor': None,\n",
       " 'stop_words': None,\n",
       " 'strip_accents': None,\n",
       " 'token_pattern': '(?u)\\\\b\\\\w\\\\w+\\\\b',\n",
       " 'tokenizer': None,\n",
       " 'vocabulary': None}"
      ]
     },
     "execution_count": 14,
     "metadata": {},
     "output_type": "execute_result"
    }
   ],
   "source": [
    "cv.get_params()"
   ]
  },
  {
   "cell_type": "code",
   "execution_count": 15,
   "id": "8e89307f-3771-4709-87c4-db85c4c1b4e7",
   "metadata": {},
   "outputs": [],
   "source": [
    "y = msgs['label']\n",
    "from sklearn.model_selection import train_test_split\n",
    "from sklearn.naive_bayes import MultinomialNB\n",
    "mnb = MultinomialNB(alpha=0.1)\n",
    "from sklearn.metrics import accuracy_score\n",
    "X_train,X_test,y_train,y_test = train_test_split(X,y,test_size = 0.25,random_state = 0)"
   ]
  },
  {
   "cell_type": "code",
   "execution_count": 16,
   "id": "c1de179a-0ac1-49fc-a156-ad06d659dceb",
   "metadata": {},
   "outputs": [
    {
     "name": "stdout",
     "output_type": "stream",
     "text": [
      "Alpha: 0.1,score: 0.9041994750656168\n",
      "Alpha: 0.2,score: 0.9041994750656168\n",
      "Alpha: 0.30000000000000004,score: 0.9046369203849519\n",
      "Alpha: 0.4,score: 0.9037620297462817\n",
      "Alpha: 0.5,score: 0.902230971128609\n",
      "Alpha: 0.6,score: 0.902230971128609\n",
      "Alpha: 0.7000000000000001,score: 0.9024496937882764\n",
      "Alpha: 0.8,score: 0.902230971128609\n",
      "Alpha: 0.9,score: 0.9017935258092739\n"
     ]
    }
   ],
   "source": [
    "prev_score = 0\n",
    "for alpha in np.arange(0.1,1,0.1):\n",
    "    mnb1 = MultinomialNB(alpha=alpha)\n",
    "    mnb1.fit(X_train,y_train)\n",
    "    pred = mnb1.predict(X_test)\n",
    "    score = accuracy_score(y_test,pred)\n",
    "    if score>prev_score:\n",
    "        mnb = mnb1\n",
    "    print(\"Alpha: {},score: {}\".format(alpha,score))\n",
    "    "
   ]
  },
  {
   "cell_type": "code",
   "execution_count": null,
   "id": "3b527c5a-c3ac-4842-a68c-4e91ccda1d31",
   "metadata": {},
   "outputs": [],
   "source": []
  },
  {
   "cell_type": "code",
   "execution_count": 18,
   "id": "f40c28c0-25bd-43b3-a509-92db00ab7159",
   "metadata": {},
   "outputs": [],
   "source": [
    "# Import necessary libraries\n",
    "import numpy as np\n",
    "\n",
    "# Function for inline fake news classification\n",
    "def classify_fake_news(title):\n",
    "    # Preprocess the input title\n",
    "    review = re.sub('[^a-zA-Z]', ' ', title)\n",
    "    review = review.lower()\n",
    "    review = review.split()\n",
    "    review = [ps.stem(word) for word in review if word not in stopwords.words('english')]\n",
    "    review = ' '.join(review)\n",
    "    \n",
    "    # Vectorize the processed title\n",
    "    title_vector = cv.transform([review]).toarray()\n",
    "    \n",
    "    # Predict the label\n",
    "    prediction = mnb.predict(title_vector)\n",
    "    \n",
    "    # Return the result\n",
    "    return \"Fake News\" if prediction[0] == 1 else \"Real News\""
   ]
  },
  {
   "cell_type": "code",
   "execution_count": 27,
   "id": "123a11fb-33f6-4c73-a258-40d8ae041a63",
   "metadata": {},
   "outputs": [
    {
     "name": "stdin",
     "output_type": "stream",
     "text": [
      " 'Jackie Mason: Hollywood Would Love Trump if He Bombed North Korea over Lack of Trans Bathrooms (Exclusive Video) - Breitbart\n"
     ]
    },
    {
     "name": "stdout",
     "output_type": "stream",
     "text": [
      "Title: 'Jackie Mason: Hollywood Would Love Trump if He Bombed North Korea over Lack of Trans Bathrooms (Exclusive Video) - Breitbart\n",
      "Prediction: Real News\n"
     ]
    }
   ],
   "source": [
    "test_title = input()\n",
    "result = classify_fake_news(test_title)\n",
    "print(f\"Title: {test_title}\\nPrediction: {result}\")"
   ]
  },
  {
   "cell_type": "code",
   "execution_count": 28,
   "id": "1353b149-1b2f-4960-a908-6c8fdef89241",
   "metadata": {},
   "outputs": [],
   "source": [
    "import pickle\n",
    "\n",
    "   # Save the model\n",
    "with open('model.pkl', 'wb') as model_file:\n",
    "    pickle.dump(mnb, model_file)\n",
    "\n",
    "   # Save the CountVectorizer\n",
    "with open('cv.pkl', 'wb') as vectorizer_file:\n",
    "    pickle.dump(cv, vectorizer_file)"
   ]
  },
  {
   "cell_type": "code",
   "execution_count": null,
   "id": "c3eb11e8-b5ae-43f6-9543-a7db8c976496",
   "metadata": {},
   "outputs": [],
   "source": []
  }
 ],
 "metadata": {
  "kernelspec": {
   "display_name": "Python 3 (ipykernel)",
   "language": "python",
   "name": "python3"
  },
  "language_info": {
   "codemirror_mode": {
    "name": "ipython",
    "version": 3
   },
   "file_extension": ".py",
   "mimetype": "text/x-python",
   "name": "python",
   "nbconvert_exporter": "python",
   "pygments_lexer": "ipython3",
   "version": "3.9.7"
  }
 },
 "nbformat": 4,
 "nbformat_minor": 5
}
